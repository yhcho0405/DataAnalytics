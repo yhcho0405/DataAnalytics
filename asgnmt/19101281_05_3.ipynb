{
 "cells": [
  {
   "cell_type": "code",
   "execution_count": 16,
   "id": "thrown-poster",
   "metadata": {},
   "outputs": [],
   "source": [
    "%matplotlib inline\n",
    "\n",
    "import numpy as np\n",
    "\n",
    "import seaborn as sns\n",
    "import matplotlib.pyplot as plt\n",
    "\n",
    "import pandas as pd\n",
    "\n",
    "pd.set_option('precision', 2) # number precision for pandas\n",
    "pd.set_option('display.max_rows', 10)\n",
    "pd.set_option('display.float_format', '{:20,.2f}'.format) # get rid of scientific notation\n",
    "plt.style.use('seaborn') # pretty matplotlib plots"
   ]
  },
  {
   "cell_type": "markdown",
   "id": "sensitive-johnson",
   "metadata": {},
   "source": [
    "# (A)"
   ]
  },
  {
   "cell_type": "code",
   "execution_count": 17,
   "id": "duplicate-school",
   "metadata": {},
   "outputs": [
    {
     "data": {
      "text/plain": [
       "                   Sales  CompPrice  Income  Advertising  Population  Price  \\\n",
       "1                   9.50        138      73           11         276    120   \n",
       "2                  11.22        111      48           16         260     83   \n",
       "3                  10.06        113      35           10         269     80   \n",
       "4                   7.40        117     100            4         466     97   \n",
       "5                   4.15        141      64            3         340    128   \n",
       "..                   ...        ...     ...          ...         ...    ...   \n",
       "396                12.57        138     108           17         203    128   \n",
       "397                 6.14        139      23            3          37    120   \n",
       "398                 7.41        162      26           12         368    159   \n",
       "399                 5.94        100      79            7         284     95   \n",
       "400                 9.71        134      37            0          27    120   \n",
       "\n",
       "    ShelveLoc  Age  Education Urban   US  \n",
       "1         Bad   42         17   Yes  Yes  \n",
       "2        Good   65         10   Yes  Yes  \n",
       "3      Medium   59         12   Yes  Yes  \n",
       "4      Medium   55         14   Yes  Yes  \n",
       "5         Bad   38         13   Yes   No  \n",
       "..        ...  ...        ...   ...  ...  \n",
       "396      Good   33         14   Yes  Yes  \n",
       "397    Medium   55         11    No  Yes  \n",
       "398    Medium   40         18   Yes  Yes  \n",
       "399       Bad   50         12   Yes  Yes  \n",
       "400      Good   49         16   Yes  Yes  \n",
       "\n",
       "[400 rows x 11 columns]"
      ]
     },
     "execution_count": 17,
     "metadata": {},
     "output_type": "execute_result"
    }
   ],
   "source": [
    "carseats = pd.read_csv('../datasets/Carseats.csv', index_col=0)\n",
    "carseats"
   ]
  },
  {
   "cell_type": "markdown",
   "id": "humanitarian-latex",
   "metadata": {},
   "source": [
    "# (B)"
   ]
  },
  {
   "cell_type": "code",
   "execution_count": 18,
   "id": "suitable-venice",
   "metadata": {},
   "outputs": [
    {
     "name": "stdout",
     "output_type": "stream",
     "text": [
      "                            OLS Regression Results                            \n",
      "==============================================================================\n",
      "Dep. Variable:                  Sales   R-squared:                       0.239\n",
      "Model:                            OLS   Adj. R-squared:                  0.234\n",
      "Method:                 Least Squares   F-statistic:                     41.52\n",
      "Date:                Sat, 17 Apr 2021   Prob (F-statistic):           2.39e-23\n",
      "Time:                        16:37:16   Log-Likelihood:                -927.66\n",
      "No. Observations:                 400   AIC:                             1863.\n",
      "Df Residuals:                     396   BIC:                             1879.\n",
      "Df Model:                           3                                         \n",
      "Covariance Type:            nonrobust                                         \n",
      "==============================================================================\n",
      "================================================================================\n",
      "                   coef    std err          t      P>|t|      [0.025      0.975]\n",
      "--------------------------------------------------------------------------------\n",
      "Intercept       13.0435      0.651     20.036      0.000      11.764      14.323\n",
      "Urban[T.Yes]    -0.0219      0.272     -0.081      0.936      -0.556       0.512\n",
      "US[T.Yes]        1.2006      0.259      4.635      0.000       0.691       1.710\n",
      "Price           -0.0545      0.005    -10.389      0.000      -0.065      -0.044\n",
      "================================================================================\n",
      "==============================================================================\n",
      "Omnibus:                        0.676   Durbin-Watson:                   1.912\n",
      "Prob(Omnibus):                  0.713   Jarque-Bera (JB):                0.758\n",
      "Skew:                           0.093   Prob(JB):                        0.684\n",
      "Kurtosis:                       2.897   Cond. No.                         628.\n",
      "==============================================================================\n"
     ]
    }
   ],
   "source": [
    "lm1= smf.ols('Sales ~ Price + Urban + US', carseats).fit()\n",
    "for i in range(3):\n",
    "    print(lm1.summary().tables[i])\n"
   ]
  },
  {
   "cell_type": "markdown",
   "id": "popular-divide",
   "metadata": {},
   "source": [
    "# (C)"
   ]
  },
  {
   "cell_type": "markdown",
   "id": "mediterranean-bride",
   "metadata": {},
   "source": [
    "Price: 다른 변수가 동일할 때, Price 1단위가 증가하면 Sales는 0.05 하락한다.\n",
    "\n",
    "Urban: 다른 변수가 동일할 때, Urban 지역의 경우 Sales 평균이 0.02 낮다.\n",
    "\n",
    "US: 다른 변수가 동일할 때, 미국의 경우 Sales 평균이 1.2 높다."
   ]
  },
  {
   "cell_type": "markdown",
   "id": "derived-techno",
   "metadata": {},
   "source": [
    "# (D)"
   ]
  },
  {
   "cell_type": "markdown",
   "id": "direct-strand",
   "metadata": {},
   "source": [
    "Sales = 13.04-0.02\\*Urban\\[T.Yes\\]+1.2\\*US\\[T.Yes\\]-0.05\\*Price"
   ]
  },
  {
   "cell_type": "markdown",
   "id": "proud-concord",
   "metadata": {},
   "source": [
    "# (E)"
   ]
  },
  {
   "cell_type": "code",
   "execution_count": 19,
   "id": "pleasant-minutes",
   "metadata": {},
   "outputs": [
    {
     "name": "stdout",
     "output_type": "stream",
     "text": [
      "                            OLS Regression Results                            \n",
      "==============================================================================\n",
      "Dep. Variable:                  Sales   R-squared:                       0.239\n",
      "Model:                            OLS   Adj. R-squared:                  0.235\n",
      "Method:                 Least Squares   F-statistic:                     62.43\n",
      "Date:                Sat, 17 Apr 2021   Prob (F-statistic):           2.66e-24\n",
      "Time:                        16:37:18   Log-Likelihood:                -927.66\n",
      "No. Observations:                 400   AIC:                             1861.\n",
      "Df Residuals:                     397   BIC:                             1873.\n",
      "Df Model:                           2                                         \n",
      "Covariance Type:            nonrobust                                         \n",
      "==============================================================================\n",
      "==============================================================================\n",
      "                 coef    std err          t      P>|t|      [0.025      0.975]\n",
      "------------------------------------------------------------------------------\n",
      "Intercept     13.0308      0.631     20.652      0.000      11.790      14.271\n",
      "US[T.Yes]      1.1996      0.258      4.641      0.000       0.692       1.708\n",
      "Price         -0.0545      0.005    -10.416      0.000      -0.065      -0.044\n",
      "==============================================================================\n",
      "==============================================================================\n",
      "Omnibus:                        0.666   Durbin-Watson:                   1.912\n",
      "Prob(Omnibus):                  0.717   Jarque-Bera (JB):                0.749\n",
      "Skew:                           0.092   Prob(JB):                        0.688\n",
      "Kurtosis:                       2.895   Cond. No.                         607.\n",
      "==============================================================================\n"
     ]
    }
   ],
   "source": [
    "lm2 = smf.ols('Sales ~ Price +  US', carseats).fit()\n",
    "for i in range(3):\n",
    "    print(lm2.summary().tables[i])"
   ]
  },
  {
   "cell_type": "code",
   "execution_count": null,
   "id": "finite-desktop",
   "metadata": {},
   "outputs": [],
   "source": []
  },
  {
   "cell_type": "code",
   "execution_count": null,
   "id": "extended-doubt",
   "metadata": {},
   "outputs": [],
   "source": []
  }
 ],
 "metadata": {
  "kernelspec": {
   "display_name": "Python 3",
   "language": "python",
   "name": "python3"
  },
  "language_info": {
   "codemirror_mode": {
    "name": "ipython",
    "version": 3
   },
   "file_extension": ".py",
   "mimetype": "text/x-python",
   "name": "python",
   "nbconvert_exporter": "python",
   "pygments_lexer": "ipython3",
   "version": "3.9.0"
  }
 },
 "nbformat": 4,
 "nbformat_minor": 5
}
